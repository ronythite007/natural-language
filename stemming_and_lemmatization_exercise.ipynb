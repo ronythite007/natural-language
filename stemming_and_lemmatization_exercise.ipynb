{
 "cells": [
  {
   "cell_type": "markdown",
   "metadata": {
    "id": "-eWVL6QPtJqx"
   },
   "source": [
    "###                     **Stemming and Lemmatization: Exercises**"
   ]
  },
  {
   "cell_type": "markdown",
   "metadata": {},
   "source": [
    "- **Run this cell to import all necessary packages**"
   ]
  },
  {
   "cell_type": "code",
   "execution_count": 1,
   "metadata": {
    "id": "fn0J_mWHtM57"
   },
   "outputs": [],
   "source": [
    "#let import necessary libraries and create the object\n",
    "\n",
    "import nltk\n",
    "from nltk.stem import PorterStemmer\n",
    "stemmer = PorterStemmer()\n",
    "\n",
    "#for spacy\n",
    "import spacy\n",
    "nlp = spacy.load(\"en_core_web_sm\")"
   ]
  },
  {
   "cell_type": "markdown",
   "metadata": {
    "id": "xCjMD77juhOm"
   },
   "source": [
    "**Exercise1:** \n",
    "- Convert these list of words into base form using Stemming and Lemmatization and observe the transformations\n",
    "- Write a short note on the words that have different base words using stemming and Lemmatization"
   ]
  },
  {
   "cell_type": "code",
   "execution_count": 3,
   "metadata": {
    "colab": {
     "base_uri": "https://localhost:8080/"
    },
    "id": "5Ytgw50jtM_h",
    "outputId": "47b1cf60-7eb6-449c-d136-01289a08abf0"
   },
   "outputs": [
    {
     "name": "stdout",
     "output_type": "stream",
     "text": [
      "running  ---->  run\n",
      "painting  ---->  paint\n",
      "walking  ---->  walk\n",
      "dressing  ---->  dress\n",
      "likely  ---->  like\n",
      "children  ---->  children\n",
      "whom  ---->  whom\n",
      "good  ---->  good\n",
      "ate  ---->  ate\n",
      "fishing  ---->  fish\n"
     ]
    }
   ],
   "source": [
    "#using stemming in nltk\n",
    "lst_words= ['running', 'painting', 'walking', 'dressing', 'likely', 'children', 'whom', 'good', 'ate', 'fishing']\n",
    "\n",
    "for words in lst_words:\n",
    "    print(words, \" ----> \",stemmer.stem(words))"
   ]
  },
  {
   "cell_type": "code",
   "execution_count": 4,
   "metadata": {
    "colab": {
     "base_uri": "https://localhost:8080/"
    },
    "id": "uU7oPj0ftNCP",
    "outputId": "8bf39249-3afb-46a2-9e4e-9fc75be31cc4"
   },
   "outputs": [
    {
     "name": "stdout",
     "output_type": "stream",
     "text": [
      "running  --->  run\n",
      "painting  --->  painting\n",
      "walking  --->  walking\n",
      "dressing  --->  dress\n",
      "likely  --->  likely\n",
      "children  --->  child\n",
      "who  --->  who\n",
      "good  --->  good\n",
      "ate  --->  eat\n",
      "fishing  --->  fish\n"
     ]
    }
   ],
   "source": [
    "#using lemmatization in spacy\n",
    "\n",
    "doc = nlp(\"running painting walking dressing likely children who good ate fishing\")\n",
    "\n",
    "for token in doc:\n",
    "    print(token,\" ---> \",token.lemma_)"
   ]
  },
  {
   "cell_type": "markdown",
   "metadata": {
    "id": "CLjsQGjVye5W"
   },
   "source": [
    "**Exercise2:**\n",
    "\n",
    "- convert the given text into it's base form using both stemming and lemmatization"
   ]
  },
  {
   "cell_type": "code",
   "execution_count": 5,
   "metadata": {
    "id": "0weT7a9tygnk"
   },
   "outputs": [],
   "source": [
    "text = \"\"\"Latha is very multi talented girl.She is good at many skills like dancing, running, singing, playing.She also likes eating Pav Bhagi. she has a \n",
    "habit of fishing and swimming too.Besides all this, she is a wonderful at cooking too.\n",
    "\"\"\""
   ]
  },
  {
   "cell_type": "code",
   "execution_count": 15,
   "metadata": {
    "colab": {
     "base_uri": "https://localhost:8080/",
     "height": 53
    },
    "id": "JP29y7cjygqa",
    "outputId": "6cdc08a3-d313-495a-c0a6-34366848b27e"
   },
   "outputs": [
    {
     "name": "stdout",
     "output_type": "stream",
     "text": [
      "Latha is very multi talented girl.She is good at many skills like dancing, running, singing, playing.She also likes eating Pav Bhagi.\n",
      "she has a \n",
      "habit of fishing and swimming too.Besides all this, she is a wonderful at cooking too.\n"
     ]
    },
    {
     "data": {
      "text/plain": [
       "'latha is veri multi talent girl.sh is good at mani skill like danc , run , sing , playing.sh also like eat pav bhagi . she ha a habit of fish and swim too.besid all thi , she is a wonder at cook too .'"
      ]
     },
     "execution_count": 15,
     "metadata": {},
     "output_type": "execute_result"
    }
   ],
   "source": [
    "from nltk.tokenize import sent_tokenize, word_tokenize\n",
    "\n",
    "tokens=sent_tokenize(text)\n",
    "\n",
    "for i in tokens:\n",
    "    print(i)\n",
    "    \n",
    "#step1: Word tokenizing\n",
    "all_word_tokens = nltk.word_tokenize(text)\n",
    "\n",
    "\n",
    "#step2: getting the base form for each token using stemmer\n",
    "based_words = []\n",
    "for words in all_word_tokens:\n",
    "    based_words.append(stemmer.stem(words))\n",
    "\n",
    "\n",
    "#step3: joining all words in a list into string using 'join()'\n",
    "final_text =' '.join(based_words)\n",
    "final_text"
   ]
  },
  {
   "cell_type": "code",
   "execution_count": 24,
   "metadata": {
    "colab": {
     "base_uri": "https://localhost:8080/"
    },
    "id": "hysIhJuxyg0B",
    "outputId": "da5f4be7-48ce-44de-a783-866571f796b9"
   },
   "outputs": [
    {
     "data": {
      "text/plain": [
       "'Latha be very multi talented girl . she be good at many skill like dancing , running , singing , play . she also like eat Pav Bhagi . she have a \\n habit of fishing and swim too . besides all this , she be a wonderful at cook too . \\n'"
      ]
     },
     "execution_count": 24,
     "metadata": {},
     "output_type": "execute_result"
    }
   ],
   "source": [
    "#using lemmatisation in spacy\n",
    "\n",
    "nlp=spacy.load(\"en_core_web_sm\")\n",
    "\n",
    "#step1: Creating the object for the given text\n",
    "doc=nlp(text)\n",
    "for token in doc:\n",
    "    print(token)\n",
    "\n",
    "#step2: getting the base form for each token using spacy 'lemma_'\n",
    "base_form = []\n",
    "for token in doc:\n",
    "    base_form.append(token.lemma_)\n",
    "\n",
    "base_form\n",
    "\n",
    "#step3: joining all words in a list into string using 'join()'\n",
    "final_text = ' '.join(base_form)\n",
    "final_text"
   ]
  },
  {
   "cell_type": "code",
   "execution_count": null,
   "metadata": {},
   "outputs": [],
   "source": []
  }
 ],
 "metadata": {
  "colab": {
   "collapsed_sections": [],
   "name": "Stemming and Lemmatization.ipynb",
   "provenance": []
  },
  "kernelspec": {
   "display_name": "Python 3 (ipykernel)",
   "language": "python",
   "name": "python3"
  },
  "language_info": {
   "codemirror_mode": {
    "name": "ipython",
    "version": 3
   },
   "file_extension": ".py",
   "mimetype": "text/x-python",
   "name": "python",
   "nbconvert_exporter": "python",
   "pygments_lexer": "ipython3",
   "version": "3.11.8"
  }
 },
 "nbformat": 4,
 "nbformat_minor": 4
}
