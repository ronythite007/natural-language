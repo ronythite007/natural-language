{
 "cells": [
  {
   "cell_type": "markdown",
   "id": "398008c3-ec94-4c44-820e-134bf734daa1",
   "metadata": {},
   "source": [
    "# Word vectors using Gensim"
   ]
  },
  {
   "cell_type": "markdown",
   "id": "168edef8-dfb6-49ee-aa16-6eaab152bf40",
   "metadata": {},
   "source": [
    "## Gensim \n",
    "Gensim is an open-source Python library designed for natural language processing (NLP) tasks, especially for topic modeling and document similarity. Here’s a brief overview:\n",
    "\n",
    "### Key Features\n",
    "Topic Modeling: Identifies themes in large text collections using algorithms like Latent Dirichlet Allocation (LDA).\n",
    "Text Pre-processing: Offers tools for cleaning and preparing text data (e.g., stopword removal, lemmatization).\n",
    "Scalability: Can handle large datasets without needing to load everything into memory.\n",
    "Performance: Fast processing due to optimized algorithms.\n",
    "\n",
    "### Applications\n",
    "Information Retrieval: Helps find relevant texts based on queries.\n",
    "Sentiment Analysis: Analyzes the emotional tone of texts.\n",
    "Document Similarity: Measures how similar different texts are.\n",
    "Gensim is widely used for its efficiency and effectiveness in handling large text data."
   ]
  },
  {
   "cell_type": "code",
   "execution_count": 2,
   "id": "d8798818-1aa2-4fc8-bc9c-49300f8eb0ef",
   "metadata": {
    "scrolled": true
   },
   "outputs": [
    {
     "name": "stdout",
     "output_type": "stream",
     "text": [
      "Collecting gensim\n",
      "  Using cached gensim-4.3.3-cp311-cp311-win_amd64.whl.metadata (8.2 kB)\n",
      "Requirement already satisfied: numpy<2.0,>=1.18.5 in c:\\users\\rohan\\appdata\\local\\programs\\python\\python311\\lib\\site-packages (from gensim) (1.26.4)\n",
      "Collecting scipy<1.14.0,>=1.7.0 (from gensim)\n",
      "  Using cached scipy-1.13.1-cp311-cp311-win_amd64.whl.metadata (60 kB)\n",
      "Requirement already satisfied: smart-open>=1.8.1 in c:\\users\\rohan\\appdata\\local\\programs\\python\\python311\\lib\\site-packages (from gensim) (7.1.0)\n",
      "Requirement already satisfied: wrapt in c:\\users\\rohan\\appdata\\local\\programs\\python\\python311\\lib\\site-packages (from smart-open>=1.8.1->gensim) (1.16.0)\n",
      "Downloading gensim-4.3.3-cp311-cp311-win_amd64.whl (24.0 MB)\n",
      "   ---------------------------------------- 0.0/24.0 MB ? eta -:--:--\n",
      "   -- ------------------------------------- 1.6/24.0 MB 8.4 MB/s eta 0:00:03\n",
      "   ------ --------------------------------- 3.9/24.0 MB 9.8 MB/s eta 0:00:03\n",
      "   --------- ------------------------------ 5.8/24.0 MB 9.3 MB/s eta 0:00:02\n",
      "   ------------- -------------------------- 8.1/24.0 MB 9.7 MB/s eta 0:00:02\n",
      "   ----------------- ---------------------- 10.2/24.0 MB 10.0 MB/s eta 0:00:02\n",
      "   -------------------- ------------------- 12.3/24.0 MB 10.2 MB/s eta 0:00:02\n",
      "   ------------------------ --------------- 14.4/24.0 MB 10.0 MB/s eta 0:00:01\n",
      "   --------------------------- ------------ 16.3/24.0 MB 9.8 MB/s eta 0:00:01\n",
      "   ------------------------------ --------- 18.1/24.0 MB 9.8 MB/s eta 0:00:01\n",
      "   ---------------------------------- ----- 20.4/24.0 MB 9.9 MB/s eta 0:00:01\n",
      "   ------------------------------------- -- 22.8/24.0 MB 10.1 MB/s eta 0:00:01\n",
      "   ---------------------------------------- 24.0/24.0 MB 9.8 MB/s eta 0:00:00\n",
      "Downloading scipy-1.13.1-cp311-cp311-win_amd64.whl (46.2 MB)\n",
      "   ---------------------------------------- 0.0/46.2 MB ? eta -:--:--\n",
      "   - -------------------------------------- 2.1/46.2 MB 10.7 MB/s eta 0:00:05\n",
      "   --- ------------------------------------ 4.5/46.2 MB 11.2 MB/s eta 0:00:04\n",
      "   ----- ---------------------------------- 6.8/46.2 MB 11.3 MB/s eta 0:00:04\n",
      "   -------- ------------------------------- 9.4/46.2 MB 11.3 MB/s eta 0:00:04\n",
      "   -------- ------------------------------- 10.2/46.2 MB 9.7 MB/s eta 0:00:04\n",
      "   ---------- ----------------------------- 12.3/46.2 MB 9.9 MB/s eta 0:00:04\n",
      "   ------------ --------------------------- 14.4/46.2 MB 9.9 MB/s eta 0:00:04\n",
      "   -------------- ------------------------- 16.8/46.2 MB 10.0 MB/s eta 0:00:03\n",
      "   ---------------- ----------------------- 19.1/46.2 MB 10.1 MB/s eta 0:00:03\n",
      "   ------------------ --------------------- 21.0/46.2 MB 10.0 MB/s eta 0:00:03\n",
      "   ------------------- -------------------- 22.8/46.2 MB 9.9 MB/s eta 0:00:03\n",
      "   --------------------- ------------------ 24.6/46.2 MB 9.8 MB/s eta 0:00:03\n",
      "   ---------------------- ----------------- 26.5/46.2 MB 9.7 MB/s eta 0:00:03\n",
      "   ------------------------ --------------- 28.3/46.2 MB 9.7 MB/s eta 0:00:02\n",
      "   -------------------------- ------------- 30.4/46.2 MB 9.6 MB/s eta 0:00:02\n",
      "   ---------------------------- ----------- 32.5/46.2 MB 9.7 MB/s eta 0:00:02\n",
      "   ----------------------------- ---------- 34.6/46.2 MB 9.7 MB/s eta 0:00:02\n",
      "   -------------------------------- ------- 37.0/46.2 MB 9.7 MB/s eta 0:00:01\n",
      "   --------------------------------- ------ 39.1/46.2 MB 9.8 MB/s eta 0:00:01\n",
      "   ----------------------------------- ---- 41.2/46.2 MB 9.8 MB/s eta 0:00:01\n",
      "   ------------------------------------- -- 43.3/46.2 MB 9.8 MB/s eta 0:00:01\n",
      "   ---------------------------------------  45.6/46.2 MB 9.9 MB/s eta 0:00:01\n",
      "   ---------------------------------------- 46.2/46.2 MB 9.7 MB/s eta 0:00:00\n",
      "Installing collected packages: scipy, gensim\n",
      "  Attempting uninstall: scipy\n",
      "    Found existing installation: scipy 1.14.1\n",
      "    Uninstalling scipy-1.14.1:\n",
      "      Successfully uninstalled scipy-1.14.1\n",
      "Successfully installed gensim-4.3.3 scipy-1.13.1\n"
     ]
    }
   ],
   "source": [
    "!pip install gensim"
   ]
  },
  {
   "cell_type": "code",
   "execution_count": 3,
   "id": "071283fe-e266-4dbd-9f2b-603fbe066f41",
   "metadata": {},
   "outputs": [],
   "source": [
    "import gensim.downloader as api\n",
    "# This is a huge model (~1.6 gb) and it will take some time to load\n",
    "\n",
    "wv = api.load('word2vec-google-news-300')"
   ]
  },
  {
   "cell_type": "code",
   "execution_count": 4,
   "id": "34ea3acf-90f8-420b-9be4-3aa69e27fba5",
   "metadata": {},
   "outputs": [
    {
     "data": {
      "text/plain": [
       "0.729151"
      ]
     },
     "execution_count": 4,
     "metadata": {},
     "output_type": "execute_result"
    }
   ],
   "source": [
    "wv.similarity(w1=\"great\", w2=\"good\")"
   ]
  },
  {
   "cell_type": "code",
   "execution_count": 5,
   "id": "d6d6d9c7-56cc-4138-904b-2ade72bba03d",
   "metadata": {},
   "outputs": [
    {
     "data": {
      "text/plain": [
       "1.0"
      ]
     },
     "execution_count": 5,
     "metadata": {},
     "output_type": "execute_result"
    }
   ],
   "source": [
    "wv.similarity(w1=\"great\", w2=\"great\")"
   ]
  },
  {
   "cell_type": "code",
   "execution_count": 9,
   "id": "e878f48b-ab42-465a-b612-a1c65c19041b",
   "metadata": {},
   "outputs": [
    {
     "data": {
      "text/plain": [
       "[('fancier', 0.6242973208427429),\n",
       " ('snazzy', 0.6128054261207581),\n",
       " ('fancy_schmancy', 0.5927230715751648),\n",
       " ('flashy', 0.5657637715339661),\n",
       " ('Fancy', 0.5621656775474548),\n",
       " ('highfalutin', 0.5348057150840759),\n",
       " ('frou_frou', 0.5235176086425781),\n",
       " ('pricey', 0.5195214152336121),\n",
       " ('fancy_shmancy', 0.5183699727058411),\n",
       " ('swanky', 0.49819421768188477)]"
      ]
     },
     "execution_count": 9,
     "metadata": {},
     "output_type": "execute_result"
    }
   ],
   "source": [
    "wv.most_similar(\"fancy\")"
   ]
  },
  {
   "cell_type": "code",
   "execution_count": 8,
   "id": "26556d09-5252-4c5b-84b4-f0c99815788a",
   "metadata": {},
   "outputs": [
    {
     "data": {
      "text/plain": [
       "[('treat_iron_deficiency', 0.5767540335655212),\n",
       " ('irons', 0.5468516945838928),\n",
       " ('zero_valent', 0.5203249454498291),\n",
       " ('dogleg_par', 0.5148035287857056),\n",
       " ('Iron_sharpens', 0.5139581561088562),\n",
       " ('HBI_DRI', 0.5099007487297058),\n",
       " ('Shindle_Pa.', 0.5066496729850769),\n",
       " ('titanium_oxide_TiO', 0.5005055069923401),\n",
       " ('pond_fronting', 0.48712262511253357),\n",
       " ('wood', 0.4768836200237274)]"
      ]
     },
     "execution_count": 8,
     "metadata": {},
     "output_type": "execute_result"
    }
   ],
   "source": [
    "wv.most_similar(\"iron\")"
   ]
  },
  {
   "cell_type": "raw",
   "id": "f21c31fb-990a-408b-995b-9a90e94040dc",
   "metadata": {},
   "source": [
    "positive=['king', 'woman']: This part indicates that you want to find words that are similar to both \"king\" and \"woman.\"\n",
    "negative=['man']: This specifies that you want to exclude words similar to \"man.\"\n",
    "topn=5: This parameter indicates that you want the top 5 most similar words returned."
   ]
  },
  {
   "cell_type": "code",
   "execution_count": 11,
   "id": "78eec194-68be-4b96-be2e-4c637315463c",
   "metadata": {},
   "outputs": [
    {
     "data": {
      "text/plain": [
       "[('queen', 0.7118193507194519),\n",
       " ('monarch', 0.6189674139022827),\n",
       " ('princess', 0.5902431011199951),\n",
       " ('crown_prince', 0.5499460697174072),\n",
       " ('prince', 0.5377321839332581)]"
      ]
     },
     "execution_count": 11,
     "metadata": {},
     "output_type": "execute_result"
    }
   ],
   "source": [
    "wv.most_similar(positive=['king', 'woman'], negative=['man'], topn=5)"
   ]
  },
  {
   "cell_type": "code",
   "execution_count": 13,
   "id": "5757f24a-2aeb-4d87-aca4-207f09ea3b8a",
   "metadata": {},
   "outputs": [
    {
     "data": {
      "text/plain": [
       "'cat'"
      ]
     },
     "execution_count": 13,
     "metadata": {},
     "output_type": "execute_result"
    }
   ],
   "source": [
    "#Gives the distict word from it\n",
    "wv.doesnt_match([\"facebook\", \"cat\", \"google\", \"microsoft\"])"
   ]
  },
  {
   "cell_type": "markdown",
   "id": "75696237-7a6a-4e7c-85eb-dddf9a42dc68",
   "metadata": {},
   "source": [
    "### Gensim: Glove"
   ]
  },
  {
   "cell_type": "code",
   "execution_count": 14,
   "id": "12b40b7d-35bf-4697-a935-d3612755149b",
   "metadata": {},
   "outputs": [
    {
     "name": "stdout",
     "output_type": "stream",
     "text": [
      "[==================================================] 100.0% 104.8/104.8MB downloaded\n"
     ]
    }
   ],
   "source": [
    "glv = api.load(\"glove-twitter-25\")"
   ]
  },
  {
   "cell_type": "code",
   "execution_count": 15,
   "id": "735ea68a-5040-41c3-8f0b-f5b38992aa7f",
   "metadata": {},
   "outputs": [
    {
     "data": {
      "text/plain": [
       "[('too', 0.9648017287254333),\n",
       " ('day', 0.9533665180206299),\n",
       " ('well', 0.9503170847892761),\n",
       " ('nice', 0.9438973665237427),\n",
       " ('better', 0.9425962567329407),\n",
       " ('fun', 0.9418926239013672),\n",
       " ('much', 0.9413353800773621),\n",
       " ('this', 0.9387555122375488),\n",
       " ('hope', 0.9383506774902344),\n",
       " ('great', 0.9378516674041748)]"
      ]
     },
     "execution_count": 15,
     "metadata": {},
     "output_type": "execute_result"
    }
   ],
   "source": [
    "glv.most_similar(\"good\")"
   ]
  },
  {
   "cell_type": "code",
   "execution_count": 17,
   "id": "dbe2874c-8f93-49aa-b67e-e3f481ea06e1",
   "metadata": {},
   "outputs": [
    {
     "data": {
      "text/plain": [
       "'cat'"
      ]
     },
     "execution_count": 17,
     "metadata": {},
     "output_type": "execute_result"
    }
   ],
   "source": [
    "glv.doesnt_match(\"facebook cat google microsoft\".split())"
   ]
  }
 ],
 "metadata": {
  "kernelspec": {
   "display_name": "Python (myenv)",
   "language": "python",
   "name": "myenv"
  },
  "language_info": {
   "codemirror_mode": {
    "name": "ipython",
    "version": 3
   },
   "file_extension": ".py",
   "mimetype": "text/x-python",
   "name": "python",
   "nbconvert_exporter": "python",
   "pygments_lexer": "ipython3",
   "version": "3.11.8"
  }
 },
 "nbformat": 4,
 "nbformat_minor": 5
}
