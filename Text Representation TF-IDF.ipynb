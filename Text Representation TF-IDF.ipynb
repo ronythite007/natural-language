{
 "cells": [
  {
   "cell_type": "markdown",
   "id": "89d2a2ac-a831-4fa9-8b31-1f67bebcaa79",
   "metadata": {},
   "source": [
    "## Text Representation TF-IDF"
   ]
  },
  {
   "cell_type": "markdown",
   "id": "056dee49-ca97-4413-9b27-6a5cc1688047",
   "metadata": {},
   "source": [
    "#### What is TF-IDF?\n",
    "TF stands for Term Frequency and denotes the ratio of number of times a particular word appeared in a Document to total number of words in the document.\n",
    "\n",
    "   Term Frequency(TF) = [number of times word appeared / total no of words in a document]\n",
    "Term Frequency values ranges between 0 and 1. If a word occurs more number of times, then it's value will be close to 1.\n",
    "\n",
    "IDF stands for Inverse Document Frequency and denotes the log of ratio of total number of documents/datapoints in the whole dataset to the number of documents that contains the particular word.\n",
    "\n",
    "   Inverse Document Frequency(IDF) = [log(Total number of documents / number of documents that contains the word)]\n",
    "In IDF, if a word occured in more number of documents and is common across all documents, then it's value will be less and ratio will approaches to 0.\n",
    "\n",
    "Finally:\n",
    "\n",
    "   TF-IDF = Term Frequency(TF) * Inverse Document Frequency(IDF)"
   ]
  },
  {
   "cell_type": "code",
   "execution_count": 1,
   "id": "747233be-fc70-49f0-afda-645938607b6e",
   "metadata": {},
   "outputs": [],
   "source": [
    "from sklearn.feature_extraction.text import TfidfVectorizer\n",
    "\n",
    "corpus = [\n",
    "    \"Thor eating pizza, Loki is eating pizza, Ironman ate pizza already\",\n",
    "    \"Apple is announcing new iphone tomorrow\",\n",
    "    \"Tesla is announcing new model-3 tomorrow\",\n",
    "    \"Google is announcing new pixel-6 tomorrow\",\n",
    "    \"Microsoft is announcing new surface tomorrow\",\n",
    "    \"Amazon is announcing new eco-dot tomorrow\",\n",
    "    \"I am eating biryani and you are eating grapes\"\n",
    "]"
   ]
  },
  {
   "cell_type": "code",
   "execution_count": 2,
   "id": "80772d65-2849-4f5d-89b2-8d75398d8da7",
   "metadata": {},
   "outputs": [],
   "source": [
    "# creating  the vectorizer and fit the corpus and transform them accordingly\n",
    "v = TfidfVectorizer()\n",
    "v.fit(corpus)\n",
    "transform_output = v.transform(corpus)"
   ]
  },
  {
   "cell_type": "code",
   "execution_count": 3,
   "id": "acc5740e-0f05-4aa6-bc94-0d109068653b",
   "metadata": {},
   "outputs": [
    {
     "data": {
      "text/plain": [
       "{'thor': 25,\n",
       " 'eating': 10,\n",
       " 'pizza': 22,\n",
       " 'loki': 17,\n",
       " 'is': 16,\n",
       " 'ironman': 15,\n",
       " 'ate': 7,\n",
       " 'already': 0,\n",
       " 'apple': 5,\n",
       " 'announcing': 4,\n",
       " 'new': 20,\n",
       " 'iphone': 14,\n",
       " 'tomorrow': 26,\n",
       " 'tesla': 24,\n",
       " 'model': 19,\n",
       " 'google': 12,\n",
       " 'pixel': 21,\n",
       " 'microsoft': 18,\n",
       " 'surface': 23,\n",
       " 'amazon': 2,\n",
       " 'eco': 11,\n",
       " 'dot': 9,\n",
       " 'am': 1,\n",
       " 'biryani': 8,\n",
       " 'and': 3,\n",
       " 'you': 27,\n",
       " 'are': 6,\n",
       " 'grapes': 13}"
      ]
     },
     "execution_count": 3,
     "metadata": {},
     "output_type": "execute_result"
    }
   ],
   "source": [
    "v.vocabulary_"
   ]
  },
  {
   "cell_type": "markdown",
   "id": "69cd3b0e-f92f-4867-8293-5e651a1dc273",
   "metadata": {},
   "source": [
    "'thor': 25 indicates that \"thor\" has a higher importance based on its frequency and uniqueness.\n",
    "'already': 0 suggests that \"already\" might be a stopword or very common in the corpus, leading to an IDF value close to zero, or it does not appear in the document."
   ]
  },
  {
   "cell_type": "code",
   "execution_count": 4,
   "id": "ca72da9b-4c89-482d-ac24-583aeadfc14e",
   "metadata": {},
   "outputs": [
    {
     "data": {
      "text/plain": [
       "array(['already', 'am', 'amazon', 'and', 'announcing', 'apple', 'are',\n",
       "       'ate', 'biryani', 'dot', 'eating', 'eco', 'google', 'grapes',\n",
       "       'iphone', 'ironman', 'is', 'loki', 'microsoft', 'model', 'new',\n",
       "       'pixel', 'pizza', 'surface', 'tesla', 'thor', 'tomorrow', 'you'],\n",
       "      dtype=object)"
      ]
     },
     "execution_count": 4,
     "metadata": {},
     "output_type": "execute_result"
    }
   ],
   "source": [
    "v.get_feature_names_out()"
   ]
  },
  {
   "cell_type": "code",
   "execution_count": 6,
   "id": "884ba3bc-144d-4b7e-b727-f1eb7302f477",
   "metadata": {},
   "outputs": [
    {
     "name": "stdout",
     "output_type": "stream",
     "text": [
      "already : 2.386294361119891\n",
      "am : 2.386294361119891\n",
      "amazon : 2.386294361119891\n",
      "and : 2.386294361119891\n",
      "announcing : 1.2876820724517808\n",
      "apple : 2.386294361119891\n",
      "are : 2.386294361119891\n",
      "ate : 2.386294361119891\n",
      "biryani : 2.386294361119891\n",
      "dot : 2.386294361119891\n",
      "eating : 1.9808292530117262\n",
      "eco : 2.386294361119891\n",
      "google : 2.386294361119891\n",
      "grapes : 2.386294361119891\n",
      "iphone : 2.386294361119891\n",
      "ironman : 2.386294361119891\n",
      "is : 1.1335313926245225\n",
      "loki : 2.386294361119891\n",
      "microsoft : 2.386294361119891\n",
      "model : 2.386294361119891\n",
      "new : 1.2876820724517808\n",
      "pixel : 2.386294361119891\n",
      "pizza : 2.386294361119891\n",
      "surface : 2.386294361119891\n",
      "tesla : 2.386294361119891\n",
      "thor : 2.386294361119891\n",
      "tomorrow : 1.2876820724517808\n",
      "you : 2.386294361119891\n"
     ]
    }
   ],
   "source": [
    "all_feature_names = v.get_feature_names_out()\n",
    "\n",
    "for word in all_feature_names:\n",
    "    \n",
    "    #let's get the index in the vocabulary\n",
    "    indx = v.vocabulary_.get(word)\n",
    "    \n",
    "    #get the score\n",
    "    idf_score = v.idf_[indx]\n",
    "    \n",
    "    print(f\"{word} : {idf_score}\")"
   ]
  },
  {
   "cell_type": "code",
   "execution_count": 7,
   "id": "5b1c7107-b0fb-430c-9dc7-3f2871b1a040",
   "metadata": {},
   "outputs": [
    {
     "name": "stdout",
     "output_type": "stream",
     "text": [
      "[[0.24266547 0.         0.         0.         0.         0.\n",
      "  0.         0.24266547 0.         0.         0.40286636 0.\n",
      "  0.         0.         0.         0.24266547 0.11527033 0.24266547\n",
      "  0.         0.         0.         0.         0.72799642 0.\n",
      "  0.         0.24266547 0.         0.        ]\n",
      " [0.         0.         0.         0.         0.30652086 0.5680354\n",
      "  0.         0.         0.         0.         0.         0.\n",
      "  0.         0.         0.5680354  0.         0.26982671 0.\n",
      "  0.         0.         0.30652086 0.         0.         0.\n",
      "  0.         0.         0.30652086 0.        ]\n",
      " [0.         0.         0.         0.         0.30652086 0.\n",
      "  0.         0.         0.         0.         0.         0.\n",
      "  0.         0.         0.         0.         0.26982671 0.\n",
      "  0.         0.5680354  0.30652086 0.         0.         0.\n",
      "  0.5680354  0.         0.30652086 0.        ]\n",
      " [0.         0.         0.         0.         0.30652086 0.\n",
      "  0.         0.         0.         0.         0.         0.\n",
      "  0.5680354  0.         0.         0.         0.26982671 0.\n",
      "  0.         0.         0.30652086 0.5680354  0.         0.\n",
      "  0.         0.         0.30652086 0.        ]\n",
      " [0.         0.         0.         0.         0.30652086 0.\n",
      "  0.         0.         0.         0.         0.         0.\n",
      "  0.         0.         0.         0.         0.26982671 0.\n",
      "  0.5680354  0.         0.30652086 0.         0.         0.5680354\n",
      "  0.         0.         0.30652086 0.        ]\n",
      " [0.         0.         0.49391316 0.         0.26652333 0.\n",
      "  0.         0.         0.         0.49391316 0.         0.49391316\n",
      "  0.         0.         0.         0.         0.23461736 0.\n",
      "  0.         0.         0.26652333 0.         0.         0.\n",
      "  0.         0.         0.26652333 0.        ]\n",
      " [0.         0.33794257 0.         0.33794257 0.         0.\n",
      "  0.33794257 0.         0.33794257 0.         0.56104271 0.\n",
      "  0.         0.33794257 0.         0.         0.         0.\n",
      "  0.         0.         0.         0.         0.         0.\n",
      "  0.         0.         0.         0.33794257]]\n"
     ]
    }
   ],
   "source": [
    "print(transform_output.toarray())\n"
   ]
  },
  {
   "cell_type": "code",
   "execution_count": 8,
   "id": "4e21567c-2fe8-49b4-b45b-9867f05c2373",
   "metadata": {},
   "outputs": [],
   "source": [
    "import pandas as pd"
   ]
  },
  {
   "cell_type": "code",
   "execution_count": 9,
   "id": "971f8346-d58b-40da-844c-ad56e4602415",
   "metadata": {},
   "outputs": [],
   "source": [
    "df=pd.read_csv(\"Ecommerce_data.csv\")"
   ]
  },
  {
   "cell_type": "code",
   "execution_count": 10,
   "id": "1c842bac-6e23-4ee3-96f9-009d40de50f2",
   "metadata": {},
   "outputs": [
    {
     "data": {
      "text/html": [
       "<div>\n",
       "<style scoped>\n",
       "    .dataframe tbody tr th:only-of-type {\n",
       "        vertical-align: middle;\n",
       "    }\n",
       "\n",
       "    .dataframe tbody tr th {\n",
       "        vertical-align: top;\n",
       "    }\n",
       "\n",
       "    .dataframe thead th {\n",
       "        text-align: right;\n",
       "    }\n",
       "</style>\n",
       "<table border=\"1\" class=\"dataframe\">\n",
       "  <thead>\n",
       "    <tr style=\"text-align: right;\">\n",
       "      <th></th>\n",
       "      <th>Text</th>\n",
       "      <th>label</th>\n",
       "    </tr>\n",
       "  </thead>\n",
       "  <tbody>\n",
       "    <tr>\n",
       "      <th>0</th>\n",
       "      <td>Urban Ladder Eisner Low Back Study-Office Comp...</td>\n",
       "      <td>Household</td>\n",
       "    </tr>\n",
       "    <tr>\n",
       "      <th>1</th>\n",
       "      <td>Contrast living Wooden Decorative Box,Painted ...</td>\n",
       "      <td>Household</td>\n",
       "    </tr>\n",
       "    <tr>\n",
       "      <th>2</th>\n",
       "      <td>IO Crest SY-PCI40010 PCI RAID Host Controller ...</td>\n",
       "      <td>Electronics</td>\n",
       "    </tr>\n",
       "    <tr>\n",
       "      <th>3</th>\n",
       "      <td>ISAKAA Baby Socks from Just Born to 8 Years- P...</td>\n",
       "      <td>Clothing &amp; Accessories</td>\n",
       "    </tr>\n",
       "    <tr>\n",
       "      <th>4</th>\n",
       "      <td>Indira Designer Women's Art Mysore Silk Saree ...</td>\n",
       "      <td>Clothing &amp; Accessories</td>\n",
       "    </tr>\n",
       "    <tr>\n",
       "      <th>...</th>\n",
       "      <td>...</td>\n",
       "      <td>...</td>\n",
       "    </tr>\n",
       "    <tr>\n",
       "      <th>23995</th>\n",
       "      <td>Marvel Physics MCQ's for MHT - CET</td>\n",
       "      <td>Books</td>\n",
       "    </tr>\n",
       "    <tr>\n",
       "      <th>23996</th>\n",
       "      <td>Internet Download Manager | Lifetime License |...</td>\n",
       "      <td>Books</td>\n",
       "    </tr>\n",
       "    <tr>\n",
       "      <th>23997</th>\n",
       "      <td>Sadhubela's Handcrafted Iron Degchi Handi Pot ...</td>\n",
       "      <td>Household</td>\n",
       "    </tr>\n",
       "    <tr>\n",
       "      <th>23998</th>\n",
       "      <td>Audio-Technica AT-LP60 Automatic Belt Driven D...</td>\n",
       "      <td>Electronics</td>\n",
       "    </tr>\n",
       "    <tr>\n",
       "      <th>23999</th>\n",
       "      <td>LG GH24NSB0 DVD Writer 24X SATA Internal OEM P...</td>\n",
       "      <td>Electronics</td>\n",
       "    </tr>\n",
       "  </tbody>\n",
       "</table>\n",
       "<p>24000 rows × 2 columns</p>\n",
       "</div>"
      ],
      "text/plain": [
       "                                                    Text  \\\n",
       "0      Urban Ladder Eisner Low Back Study-Office Comp...   \n",
       "1      Contrast living Wooden Decorative Box,Painted ...   \n",
       "2      IO Crest SY-PCI40010 PCI RAID Host Controller ...   \n",
       "3      ISAKAA Baby Socks from Just Born to 8 Years- P...   \n",
       "4      Indira Designer Women's Art Mysore Silk Saree ...   \n",
       "...                                                  ...   \n",
       "23995                 Marvel Physics MCQ's for MHT - CET   \n",
       "23996  Internet Download Manager | Lifetime License |...   \n",
       "23997  Sadhubela's Handcrafted Iron Degchi Handi Pot ...   \n",
       "23998  Audio-Technica AT-LP60 Automatic Belt Driven D...   \n",
       "23999  LG GH24NSB0 DVD Writer 24X SATA Internal OEM P...   \n",
       "\n",
       "                        label  \n",
       "0                   Household  \n",
       "1                   Household  \n",
       "2                 Electronics  \n",
       "3      Clothing & Accessories  \n",
       "4      Clothing & Accessories  \n",
       "...                       ...  \n",
       "23995                   Books  \n",
       "23996                   Books  \n",
       "23997               Household  \n",
       "23998             Electronics  \n",
       "23999             Electronics  \n",
       "\n",
       "[24000 rows x 2 columns]"
      ]
     },
     "execution_count": 10,
     "metadata": {},
     "output_type": "execute_result"
    }
   ],
   "source": [
    "df"
   ]
  },
  {
   "cell_type": "code",
   "execution_count": 11,
   "id": "1cda451d-8d0b-43b6-a175-035a886b4990",
   "metadata": {},
   "outputs": [
    {
     "data": {
      "text/plain": [
       "Household                 6000\n",
       "Electronics               6000\n",
       "Clothing & Accessories    6000\n",
       "Books                     6000\n",
       "Name: label, dtype: int64"
      ]
     },
     "execution_count": 11,
     "metadata": {},
     "output_type": "execute_result"
    }
   ],
   "source": [
    "df['label'].value_counts()"
   ]
  },
  {
   "cell_type": "code",
   "execution_count": 12,
   "id": "ca27da1a-4788-470f-bdcd-33af3e9948e9",
   "metadata": {},
   "outputs": [
    {
     "data": {
      "text/html": [
       "<div>\n",
       "<style scoped>\n",
       "    .dataframe tbody tr th:only-of-type {\n",
       "        vertical-align: middle;\n",
       "    }\n",
       "\n",
       "    .dataframe tbody tr th {\n",
       "        vertical-align: top;\n",
       "    }\n",
       "\n",
       "    .dataframe thead th {\n",
       "        text-align: right;\n",
       "    }\n",
       "</style>\n",
       "<table border=\"1\" class=\"dataframe\">\n",
       "  <thead>\n",
       "    <tr style=\"text-align: right;\">\n",
       "      <th></th>\n",
       "      <th>Text</th>\n",
       "      <th>label</th>\n",
       "      <th>label_num</th>\n",
       "    </tr>\n",
       "  </thead>\n",
       "  <tbody>\n",
       "    <tr>\n",
       "      <th>0</th>\n",
       "      <td>Urban Ladder Eisner Low Back Study-Office Comp...</td>\n",
       "      <td>Household</td>\n",
       "      <td>0</td>\n",
       "    </tr>\n",
       "    <tr>\n",
       "      <th>1</th>\n",
       "      <td>Contrast living Wooden Decorative Box,Painted ...</td>\n",
       "      <td>Household</td>\n",
       "      <td>0</td>\n",
       "    </tr>\n",
       "    <tr>\n",
       "      <th>2</th>\n",
       "      <td>IO Crest SY-PCI40010 PCI RAID Host Controller ...</td>\n",
       "      <td>Electronics</td>\n",
       "      <td>2</td>\n",
       "    </tr>\n",
       "    <tr>\n",
       "      <th>3</th>\n",
       "      <td>ISAKAA Baby Socks from Just Born to 8 Years- P...</td>\n",
       "      <td>Clothing &amp; Accessories</td>\n",
       "      <td>3</td>\n",
       "    </tr>\n",
       "    <tr>\n",
       "      <th>4</th>\n",
       "      <td>Indira Designer Women's Art Mysore Silk Saree ...</td>\n",
       "      <td>Clothing &amp; Accessories</td>\n",
       "      <td>3</td>\n",
       "    </tr>\n",
       "  </tbody>\n",
       "</table>\n",
       "</div>"
      ],
      "text/plain": [
       "                                                Text                   label  \\\n",
       "0  Urban Ladder Eisner Low Back Study-Office Comp...               Household   \n",
       "1  Contrast living Wooden Decorative Box,Painted ...               Household   \n",
       "2  IO Crest SY-PCI40010 PCI RAID Host Controller ...             Electronics   \n",
       "3  ISAKAA Baby Socks from Just Born to 8 Years- P...  Clothing & Accessories   \n",
       "4  Indira Designer Women's Art Mysore Silk Saree ...  Clothing & Accessories   \n",
       "\n",
       "   label_num  \n",
       "0          0  \n",
       "1          0  \n",
       "2          2  \n",
       "3          3  \n",
       "4          3  "
      ]
     },
     "execution_count": 12,
     "metadata": {},
     "output_type": "execute_result"
    }
   ],
   "source": [
    "df['label_num'] = df['label'].map({\n",
    "    'Household' : 0, \n",
    "    'Books': 1, \n",
    "    'Electronics': 2, \n",
    "    'Clothing & Accessories': 3\n",
    "})\n",
    "\n",
    "#checking the results \n",
    "df.head(5)"
   ]
  },
  {
   "cell_type": "markdown",
   "id": "810e80c5-2155-4744-9e4f-bb66e271330c",
   "metadata": {},
   "source": [
    "### Train test split\n",
    "Building a model with original text (no pre processing)"
   ]
  },
  {
   "cell_type": "code",
   "execution_count": 13,
   "id": "4b9bd44d-6fc2-47ee-8f0a-d32790bd8062",
   "metadata": {},
   "outputs": [],
   "source": [
    "from sklearn.model_selection import train_test_split\n",
    "\n",
    "X_train, X_test, y_train, y_test = train_test_split(df.Text, df.label_num, test_size=0.2,random_state=2022,stratify=df.label_num)"
   ]
  },
  {
   "cell_type": "code",
   "execution_count": 14,
   "id": "eeca2787-9e56-4a80-95f1-bfe6edfeb85b",
   "metadata": {},
   "outputs": [
    {
     "name": "stdout",
     "output_type": "stream",
     "text": [
      "Shape of X_train:  (19200,)\n",
      "Shape of X_test:  (4800,)\n"
     ]
    }
   ],
   "source": [
    "print(\"Shape of X_train: \", X_train.shape)\n",
    "print(\"Shape of X_test: \", X_test.shape)"
   ]
  },
  {
   "cell_type": "code",
   "execution_count": 15,
   "id": "64bf366f-5798-48e5-bfd9-efd5bab60d75",
   "metadata": {},
   "outputs": [
    {
     "data": {
      "text/plain": [
       "15820    IRIS Furniture Children Deluxe Spiderman Toddl...\n",
       "23224    Godox CB-09 Hard Carrying Storage Suitcase Car...\n",
       "4638     Ugreen All in 1 USB 3.0 Card Reader USB Memory...\n",
       "15245    Spread Spain Metallic Gold Bar Trolley/Kitchen...\n",
       "5378     Chromozome Men's Calf Socks (Pack of 3) (SX-3 ...\n",
       "Name: Text, dtype: object"
      ]
     },
     "execution_count": 15,
     "metadata": {},
     "output_type": "execute_result"
    }
   ],
   "source": [
    "X_train.head()"
   ]
  },
  {
   "cell_type": "code",
   "execution_count": 16,
   "id": "aa561cf2-c86c-4e30-aacd-037d2f7e7eed",
   "metadata": {},
   "outputs": [
    {
     "data": {
      "text/plain": [
       "0    4800\n",
       "2    4800\n",
       "3    4800\n",
       "1    4800\n",
       "Name: label_num, dtype: int64"
      ]
     },
     "execution_count": 16,
     "metadata": {},
     "output_type": "execute_result"
    }
   ],
   "source": [
    "y_train.value_counts()"
   ]
  },
  {
   "cell_type": "markdown",
   "id": "af9583d1-e39e-46ff-97dd-3a9aa418371f",
   "metadata": {},
   "source": [
    "### Attempt 1 :\n",
    "\n",
    "using sklearn pipeline module create a classification pipeline to classify the Ecommerce Data.\n",
    "\n",
    "#### Note:\n",
    "\n",
    "use TF-IDF for pre-processing the text.\n",
    "\n",
    "use KNN as the classifier\n",
    "\n",
    "print the classification report."
   ]
  },
  {
   "cell_type": "code",
   "execution_count": 17,
   "id": "4375e5f6-6fc8-4f9c-be05-9d4f44417e6f",
   "metadata": {},
   "outputs": [
    {
     "name": "stdout",
     "output_type": "stream",
     "text": [
      "              precision    recall  f1-score   support\n",
      "\n",
      "           0       0.95      0.96      0.95      1200\n",
      "           1       0.97      0.95      0.96      1200\n",
      "           2       0.97      0.97      0.97      1200\n",
      "           3       0.97      0.98      0.97      1200\n",
      "\n",
      "    accuracy                           0.96      4800\n",
      "   macro avg       0.96      0.96      0.96      4800\n",
      "weighted avg       0.96      0.96      0.96      4800\n",
      "\n"
     ]
    }
   ],
   "source": [
    "from sklearn.neighbors import KNeighborsClassifier\n",
    "from sklearn.pipeline import Pipeline\n",
    "from sklearn.metrics import classification_report\n",
    "\n",
    "clf = Pipeline([\n",
    "     ('vectorizer_tfidf',TfidfVectorizer()),    \n",
    "     ('KNN', KNeighborsClassifier())         \n",
    "])\n",
    "\n",
    "clf.fit(X_train, y_train)\n",
    "\n",
    "y_pred = clf.predict(X_test)\n",
    "\n",
    "print(classification_report(y_test, y_pred))"
   ]
  },
  {
   "cell_type": "code",
   "execution_count": 18,
   "id": "46bb151c-f315-41df-8a0a-069200f19b09",
   "metadata": {},
   "outputs": [
    {
     "data": {
      "text/plain": [
       "20706    Lal Haveli Designer Handmade Patchwork Decorat...\n",
       "19166    GOTOTOP Classical Retro Cotton & PU Leather Ne...\n",
       "15209    FabSeasons Camouflage Polyester Multi Function...\n",
       "2462     Indian Superfoods: Change the Way You Eat Revi...\n",
       "6621     Milton Marvel Insulated Steel Casseroles, Juni...\n",
       "Name: Text, dtype: object"
      ]
     },
     "execution_count": 18,
     "metadata": {},
     "output_type": "execute_result"
    }
   ],
   "source": [
    "X_test[:5]"
   ]
  },
  {
   "cell_type": "code",
   "execution_count": 21,
   "id": "df6e6a1c-e4a9-44c9-a8e9-ce5e3b49f42d",
   "metadata": {},
   "outputs": [
    {
     "data": {
      "text/plain": [
       "array([0, 2, 3, 1, 0], dtype=int64)"
      ]
     },
     "execution_count": 21,
     "metadata": {},
     "output_type": "execute_result"
    }
   ],
   "source": [
    "clf.predict(X_test)[:5]"
   ]
  },
  {
   "cell_type": "code",
   "execution_count": 20,
   "id": "e92b6931-12aa-492e-b06c-228ffdf3b266",
   "metadata": {},
   "outputs": [
    {
     "data": {
      "text/plain": [
       "20706    0\n",
       "19166    2\n",
       "15209    3\n",
       "2462     1\n",
       "6621     3\n",
       "Name: label_num, dtype: int64"
      ]
     },
     "execution_count": 20,
     "metadata": {},
     "output_type": "execute_result"
    }
   ],
   "source": [
    "y_test[:5]"
   ]
  },
  {
   "cell_type": "markdown",
   "id": "e36a71c2-34b2-4a7e-9680-34329fd98b4a",
   "metadata": {},
   "source": [
    "### Attempt 2 :\n",
    "\n",
    "using sklearn pipeline module create a classification pipeline to classify the Ecommerce Data.\n",
    "    \n",
    "#### Note:\n",
    "\n",
    "use TF-IDF for pre-processing the text.\n",
    "\n",
    "use MultinomialNB as the classifier.\n",
    "\n",
    "print the classification report."
   ]
  },
  {
   "cell_type": "code",
   "execution_count": 22,
   "id": "511ff7e1-c910-4a85-88e6-8c747bc2e57a",
   "metadata": {},
   "outputs": [
    {
     "name": "stdout",
     "output_type": "stream",
     "text": [
      "              precision    recall  f1-score   support\n",
      "\n",
      "           0       0.92      0.96      0.94      1200\n",
      "           1       0.98      0.92      0.95      1200\n",
      "           2       0.97      0.97      0.97      1200\n",
      "           3       0.97      0.99      0.98      1200\n",
      "\n",
      "    accuracy                           0.96      4800\n",
      "   macro avg       0.96      0.96      0.96      4800\n",
      "weighted avg       0.96      0.96      0.96      4800\n",
      "\n"
     ]
    }
   ],
   "source": [
    "from sklearn.naive_bayes import MultinomialNB\n",
    "\n",
    "clf = Pipeline([\n",
    "     ('vectorizer_tfidf',TfidfVectorizer()),    \n",
    "     ('Multi NB', MultinomialNB())         \n",
    "])\n",
    "\n",
    "clf.fit(X_train, y_train)\n",
    "\n",
    "\n",
    "y_pred = clf.predict(X_test)\n",
    "\n",
    "print(classification_report(y_test, y_pred))"
   ]
  },
  {
   "cell_type": "code",
   "execution_count": 24,
   "id": "03e4df82-5a49-4f52-b241-967b46a01bc8",
   "metadata": {},
   "outputs": [
    {
     "data": {
      "text/plain": [
       "20706    Lal Haveli Designer Handmade Patchwork Decorat...\n",
       "19166    GOTOTOP Classical Retro Cotton & PU Leather Ne...\n",
       "15209    FabSeasons Camouflage Polyester Multi Function...\n",
       "2462     Indian Superfoods: Change the Way You Eat Revi...\n",
       "6621     Milton Marvel Insulated Steel Casseroles, Juni...\n",
       "Name: Text, dtype: object"
      ]
     },
     "execution_count": 24,
     "metadata": {},
     "output_type": "execute_result"
    }
   ],
   "source": [
    "X_test[:5]"
   ]
  },
  {
   "cell_type": "code",
   "execution_count": 25,
   "id": "6443e59e-b768-46a2-a26a-70d684963a10",
   "metadata": {},
   "outputs": [
    {
     "data": {
      "text/plain": [
       "array([0, 2, 3, 1, 0], dtype=int64)"
      ]
     },
     "execution_count": 25,
     "metadata": {},
     "output_type": "execute_result"
    }
   ],
   "source": [
    "clf.predict(X_test)[:5]"
   ]
  },
  {
   "cell_type": "code",
   "execution_count": 27,
   "id": "082578da-378f-4722-a3a9-3433fa33e497",
   "metadata": {},
   "outputs": [
    {
     "data": {
      "text/plain": [
       "20706    0\n",
       "19166    2\n",
       "15209    3\n",
       "2462     1\n",
       "6621     3\n",
       "Name: label_num, dtype: int64"
      ]
     },
     "execution_count": 27,
     "metadata": {},
     "output_type": "execute_result"
    }
   ],
   "source": [
    "y_test[:5]"
   ]
  },
  {
   "cell_type": "markdown",
   "id": "6415f318-4cf5-4b2c-95e5-d69dafe34fef",
   "metadata": {},
   "source": [
    "## Using text pre-processing to remove stop words, punctuations and apply lemmatization\n"
   ]
  },
  {
   "cell_type": "code",
   "execution_count": 28,
   "id": "3c225598-7f03-47d6-8a54-9dec49cfab68",
   "metadata": {},
   "outputs": [],
   "source": [
    "\n",
    "import spacy\n",
    "\n",
    "nlp = spacy.load(\"en_core_web_sm\") \n",
    "\n",
    "def preprocess(text):\n",
    "    # removing stop words and lemmatize the text\n",
    "    doc = nlp(text)\n",
    "    filtered_tokens = []\n",
    "    for token in doc:\n",
    "        if token.is_stop or token.is_punct:\n",
    "            continue\n",
    "        filtered_tokens.append(token.lemma_)\n",
    "    \n",
    "    return \" \".join(filtered_tokens) \n"
   ]
  },
  {
   "cell_type": "code",
   "execution_count": 29,
   "id": "f22e4392-6d31-45f1-bfc9-33fafd8751ab",
   "metadata": {},
   "outputs": [],
   "source": [
    "df['preprocessed_txt'] = df['Text'].apply(preprocess) "
   ]
  },
  {
   "cell_type": "code",
   "execution_count": 30,
   "id": "f045e178-79ee-4449-b8bb-f75f705742a1",
   "metadata": {},
   "outputs": [
    {
     "data": {
      "text/plain": [
       "'Urban Ladder Eisner Low Back Study-Office Computer Chair(Black) A study in simple. The Eisner study chair has a firm foam cushion, which makes long hours at your desk comfortable. The flexible meshed back is designed for air-circulation and support when you lean back. The curved arms provide ergonomic forearm support. Adjust the height using the gas lift to find that comfortable position and the nylon castors make it easy to move around your space. Chrome legs refer to the images for dimension details any assembly required will be done by the UL team at the time of delivery indoor use only.'"
      ]
     },
     "execution_count": 30,
     "metadata": {},
     "output_type": "execute_result"
    }
   ],
   "source": [
    "df[\"Text\"][0]"
   ]
  },
  {
   "cell_type": "code",
   "execution_count": 31,
   "id": "d51bda81-1c10-4fd2-93d0-962b7402b4a6",
   "metadata": {},
   "outputs": [
    {
     "data": {
      "text/plain": [
       "'Urban Ladder Eisner Low Study Office Computer Chair(Black study simple Eisner study chair firm foam cushion make long hour desk comfortable flexible mesh design air circulation support lean curved arm provide ergonomic forearm support adjust height gas lift find comfortable position nylon castor easy space chrome leg refer image dimension detail assembly require UL team time delivery indoor use'"
      ]
     },
     "execution_count": 31,
     "metadata": {},
     "output_type": "execute_result"
    }
   ],
   "source": [
    "df['preprocessed_txt'][0]"
   ]
  },
  {
   "cell_type": "markdown",
   "id": "15eae0c4-5079-4f34-b5ad-e5db9c54759f",
   "metadata": {},
   "source": [
    "#### Building model with processed text"
   ]
  },
  {
   "cell_type": "code",
   "execution_count": 32,
   "id": "eb61376b-5c22-4033-9e98-b1b90dc405a3",
   "metadata": {},
   "outputs": [],
   "source": [
    "X_train, X_test, y_train, y_test = train_test_split(df.preprocessed_txt, df.label_num,test_size=0.2,random_state=2022,stratify=df.label_num)"
   ]
  },
  {
   "cell_type": "code",
   "execution_count": 34,
   "id": "cb514805-24b1-4737-8a17-212d248683ec",
   "metadata": {},
   "outputs": [
    {
     "name": "stdout",
     "output_type": "stream",
     "text": [
      "              precision    recall  f1-score   support\n",
      "\n",
      "           0       0.96      0.97      0.97      1200\n",
      "           1       0.98      0.98      0.98      1200\n",
      "           2       0.98      0.97      0.98      1200\n",
      "           3       0.98      0.99      0.98      1200\n",
      "\n",
      "    accuracy                           0.98      4800\n",
      "   macro avg       0.98      0.98      0.98      4800\n",
      "weighted avg       0.98      0.98      0.98      4800\n",
      "\n"
     ]
    }
   ],
   "source": [
    "from sklearn.ensemble import RandomForestClassifier\n",
    "\n",
    "clf = Pipeline([\n",
    "     ('vectorizer_tfidf',TfidfVectorizer()),        \n",
    "     ('Random Forest', RandomForestClassifier())         \n",
    "])\n",
    "\n",
    "clf.fit(X_train, y_train)\n",
    "\n",
    "y_pred = clf.predict(X_test)\n",
    "\n",
    "print(classification_report(y_test, y_pred))"
   ]
  },
  {
   "cell_type": "code",
   "execution_count": 35,
   "id": "65f9719a-b654-40b8-81ad-d87975f32b9d",
   "metadata": {},
   "outputs": [
    {
     "ename": "NameError",
     "evalue": "name 'x_test' is not defined",
     "output_type": "error",
     "traceback": [
      "\u001b[1;31m---------------------------------------------------------------------------\u001b[0m",
      "\u001b[1;31mNameError\u001b[0m                                 Traceback (most recent call last)",
      "Cell \u001b[1;32mIn[35], line 1\u001b[0m\n\u001b[1;32m----> 1\u001b[0m \u001b[43mx_test\u001b[49m[:\u001b[38;5;241m5\u001b[39m]\n",
      "\u001b[1;31mNameError\u001b[0m: name 'x_test' is not defined"
     ]
    }
   ],
   "source": [
    "_test[:5]"
   ]
  },
  {
   "cell_type": "code",
   "execution_count": null,
   "id": "5c768b1c-8c02-4739-a6ae-d23b829b2004",
   "metadata": {},
   "outputs": [],
   "source": [
    "clf.predict(X_test)"
   ]
  },
  {
   "cell_type": "code",
   "execution_count": null,
   "id": "905e6061-8854-41d2-8c65-67d8bf145450",
   "metadata": {},
   "outputs": [],
   "source": [
    "y_test{:5}"
   ]
  }
 ],
 "metadata": {
  "kernelspec": {
   "display_name": "Python (myenv)",
   "language": "python",
   "name": "myenv"
  },
  "language_info": {
   "codemirror_mode": {
    "name": "ipython",
    "version": 3
   },
   "file_extension": ".py",
   "mimetype": "text/x-python",
   "name": "python",
   "nbconvert_exporter": "python",
   "pygments_lexer": "ipython3",
   "version": "3.11.8"
  }
 },
 "nbformat": 4,
 "nbformat_minor": 5
}
